{
 "cells": [
  {
   "cell_type": "markdown",
   "id": "5662ddb4",
   "metadata": {},
   "source": [
    "# Guppy Demo\n",
    "\n",
    "This notebook gives a brief introduction to Guppy.\n",
    "\n",
    "Make sure that you have installed Guppy via `pip install guppylang`."
   ]
  },
  {
   "cell_type": "code",
   "execution_count": 1,
   "id": "fc9fe864",
   "metadata": {},
   "outputs": [],
   "source": [
    "import guppylang"
   ]
  },
  {
   "cell_type": "markdown",
   "id": "4dde1c29",
   "metadata": {},
   "source": [
    "## Getting Started"
   ]
  },
  {
   "cell_type": "markdown",
   "id": "c08caed7",
   "metadata": {},
   "source": [
    "Guppy functions look like regular Python functions that are annotated with the `@guppy` decorator."
   ]
  },
  {
   "cell_type": "code",
   "execution_count": 2,
   "id": "df7a3230",
   "metadata": {},
   "outputs": [],
   "source": [
    "from guppylang import guppy\n",
    "\n",
    "@guppy\n",
    "def factorial(x: int) -> int:\n",
    "    \"\"\"Classical factorial function in Guppy.\"\"\"\n",
    "    acc = 1\n",
    "    while x > 0:\n",
    "        acc *= x\n",
    "        x -= 1\n",
    "    return acc"
   ]
  },
  {
   "cell_type": "markdown",
   "id": "2150bc3a",
   "metadata": {},
   "source": [
    "Guppy provides a special `qubit` type that quantum operations act on."
   ]
  },
  {
   "cell_type": "code",
   "execution_count": 3,
   "id": "c22795b6",
   "metadata": {},
   "outputs": [],
   "source": [
    "from guppylang.std.builtins import owned\n",
    "from guppylang.std.quantum import qubit, measure, h, cx\n",
    "\n",
    "@guppy\n",
    "def bell() -> bool:\n",
    "    \"\"\"Prepares and measures a bell state.\n",
    "    \n",
    "    Returns the parity of the measurement results.\n",
    "    \"\"\"\n",
    "    # Allocate two fresh qubits\n",
    "    q1, q2 = qubit(), qubit()\n",
    "    # Entangle\n",
    "    h(q1)\n",
    "    cx(q1, q2)\n",
    "    h(q2)\n",
    "    # Measure\n",
    "    b1, b2 = measure(q1), measure(q2)\n",
    "    return b1 ^ b2"
   ]
  },
  {
   "cell_type": "markdown",
   "id": "bfefd31a",
   "metadata": {},
   "source": [
    "After defining a function, we can compile it:"
   ]
  },
  {
   "cell_type": "code",
   "execution_count": 4,
   "id": "191573f5",
   "metadata": {},
   "outputs": [],
   "source": [
    "program = guppy.compile(bell)"
   ]
  },
  {
   "cell_type": "markdown",
   "id": "e8e97304",
   "metadata": {},
   "source": [
    "Note that execution of programs is still work-in-progress and therefore not included in this notebook."
   ]
  },
  {
   "cell_type": "markdown",
   "id": "aa0b06e1",
   "metadata": {},
   "source": [
    "## Type System\n",
    "\n",
    "Guppy is strongly typed and requires type annotations for function arguments and returns as in the examples above.\n",
    "\n",
    "Ill-typed programs are rejected by the compiler. For example, observe the error when trying to compile the program below."
   ]
  },
  {
   "cell_type": "code",
   "execution_count": 5,
   "id": "450f8e25",
   "metadata": {
    "tags": [
     "raises-exception"
    ]
   },
   "outputs": [
    {
     "name": "stderr",
     "output_type": "stream",
     "text": [
      "Error: Operator not defined (at <In [5]>:4:11)\n",
      "  | \n",
      "2 | def bad(x: int) -> int:\n",
      "3 |     # Try to add a tuple to an int\n",
      "4 |     return x + (x, x)\n",
      "  |            ^^^^^^^^^^ Binary operator `+` not defined for `int` and `(int, int)`\n",
      "\n",
      "Guppy compilation failed due to 1 previous error\n"
     ]
    }
   ],
   "source": [
    "@guppy\n",
    "def bad(x: int) -> int:\n",
    "    # Try to add a tuple to an int\n",
    "    return x + (x, x)\n",
    "\n",
    "guppy.compile(bad)  # Raises an error"
   ]
  },
  {
   "cell_type": "markdown",
   "id": "10c3b7ec",
   "metadata": {},
   "source": [
    "Furthermore, the Guppy compiler ensures that variables are definitely initialised when they are used."
   ]
  },
  {
   "cell_type": "code",
   "execution_count": 6,
   "id": "654758a8",
   "metadata": {
    "tags": [
     "raises-exception"
    ]
   },
   "outputs": [
    {
     "name": "stderr",
     "output_type": "stream",
     "text": [
      "Error: Variable not defined (at <In [6]>:5:11)\n",
      "  | \n",
      "3 |     if b:\n",
      "4 |         x = 4\n",
      "5 |     return x  # x not defined if b is False\n",
      "  |            ^ `x` might be undefined ...\n",
      "  | \n",
      "3 |     if b:\n",
      "  |        - ... if this expression is `False`\n",
      "\n",
      "Guppy compilation failed due to 1 previous error\n"
     ]
    }
   ],
   "source": [
    "@guppy\n",
    "def bad(b: bool) -> int:\n",
    "    if b:\n",
    "        x = 4\n",
    "    return x  # x not defined if b is False\n",
    "\n",
    "guppy.compile(bad)  # Raises an error"
   ]
  },
  {
   "cell_type": "markdown",
   "id": "52301cf4",
   "metadata": {},
   "source": [
    "Similarly, variables must have a unique type when they are used."
   ]
  },
  {
   "cell_type": "code",
   "execution_count": 7,
   "id": "c1671ed8",
   "metadata": {
    "tags": [
     "raises-exception"
    ]
   },
   "outputs": [
    {
     "name": "stderr",
     "output_type": "stream",
     "text": [
      "Error: Different types (at <In [7]>:7:15)\n",
      "  | \n",
      "5 |     else:\n",
      "6 |         x = True\n",
      "7 |     return int(x)  # x has different types depending on b\n",
      "  |                ^ Variable `x` may refer to different types\n",
      "  | \n",
      "4 |         x = 4\n",
      "  |         - This is of type `int`\n",
      "  | \n",
      "6 |         x = True\n",
      "  |         - This is of type `bool`\n",
      "\n",
      "Guppy compilation failed due to 1 previous error\n"
     ]
    }
   ],
   "source": [
    "@guppy\n",
    "def bad(b: bool) -> int:\n",
    "    if b:\n",
    "        x = 4\n",
    "    else:\n",
    "        x = True\n",
    "    return int(x)  # x has different types depending on b\n",
    "\n",
    "guppy.compile(bad)  # Raises an error"
   ]
  },
  {
   "cell_type": "markdown",
   "id": "171851fb",
   "metadata": {},
   "source": [
    "## Linear Types\n",
    "\n",
    "Qubits in Guppy obey *linear typing*, i.e. they cannot be copied and may only be used once before they are reassigned."
   ]
  },
  {
   "cell_type": "code",
   "execution_count": 8,
   "id": "e9702a33",
   "metadata": {
    "tags": [
     "raises-exception"
    ]
   },
   "outputs": [
    {
     "name": "stderr",
     "output_type": "stream",
     "text": [
      "Error: Copy violation (at <In [8]>:3:10)\n",
      "  | \n",
      "1 | @guppy\n",
      "2 | def bad(q: qubit @owned) -> qubit:\n",
      "3 |     cx(q, q)\n",
      "  |           ^ Variable `q` with non-copyable type `qubit` cannot be\n",
      "  |             borrowed ...\n",
      "  | \n",
      "3 |     cx(q, q)\n",
      "  |        - since it was already borrowed here\n",
      "\n",
      "Guppy compilation failed due to 1 previous error\n"
     ]
    }
   ],
   "source": [
    "@guppy\n",
    "def bad(q: qubit @owned) -> qubit:\n",
    "    cx(q, q)\n",
    "    return q\n",
    "\n",
    "guppy.compile(bad)  # Raises an error"
   ]
  },
  {
   "cell_type": "markdown",
   "id": "46b7083d",
   "metadata": {},
   "source": [
    "Similarly, qubits cannot be implicitly dropped. They need to be returned from functions or explicitly measured or discarded."
   ]
  },
  {
   "cell_type": "code",
   "execution_count": 9,
   "id": "cec001fa",
   "metadata": {
    "tags": [
     "raises-exception"
    ]
   },
   "outputs": [
    {
     "name": "stderr",
     "output_type": "stream",
     "text": [
      "Error: Drop violation (at <In [9]>:3:4)\n",
      "  | \n",
      "1 | @guppy\n",
      "2 | def bad(q: qubit @owned) -> qubit:\n",
      "3 |     tmp = qubit()\n",
      "  |     ^^^ Variable `tmp` with non-droppable type `qubit` is leaked\n",
      "\n",
      "Help: Make sure that `tmp` is consumed or returned to avoid the leak\n",
      "\n",
      "Guppy compilation failed due to 1 previous error\n"
     ]
    }
   ],
   "source": [
    "@guppy\n",
    "def bad(q: qubit @owned) -> qubit:\n",
    "    tmp = qubit()\n",
    "    cx(tmp, q)\n",
    "    #discard(tmp)  # Compiler complains if tmp is not explicitly discarded\n",
    "    return q\n",
    "\n",
    "guppy.compile(bad)  # Raises an error"
   ]
  },
  {
   "cell_type": "markdown",
   "id": "5d2568a7",
   "metadata": {},
   "source": [
    "## Mutual Recursion\n",
    "\n",
    "Guppy functions support (mutual) recursion:"
   ]
  },
  {
   "cell_type": "code",
   "execution_count": 10,
   "id": "65b44bcf",
   "metadata": {},
   "outputs": [],
   "source": [
    "@guppy\n",
    "def is_even(x: int) -> bool:\n",
    "    if x == 0:\n",
    "        return True\n",
    "    return is_odd(x-1)\n",
    "\n",
    "@guppy\n",
    "def is_odd(x: int) -> bool:\n",
    "    if x == 0:\n",
    "        return False\n",
    "    return is_even(x-1)\n",
    "\n",
    "program = guppy.compile(is_even)"
   ]
  },
  {
   "cell_type": "markdown",
   "id": "380de22d",
   "metadata": {},
   "source": [
    "## Structs\n",
    "\n",
    "Structs can be used to group quantum and classical data."
   ]
  },
  {
   "cell_type": "code",
   "execution_count": 11,
   "id": "9425c332",
   "metadata": {},
   "outputs": [],
   "source": [
    "@guppy.struct\n",
    "class QubitPair:\n",
    "    q1: qubit\n",
    "    q2: qubit\n",
    "\n",
    "    @guppy\n",
    "    def method(self: \"QubitPair\") -> None:\n",
    "        h(self.q1)\n",
    "        cx(self.q1, self.q2)\n",
    "\n",
    "@guppy\n",
    "def make_struct() -> QubitPair:\n",
    "    pair = QubitPair(qubit(), qubit())\n",
    "    pair.method()\n",
    "    return pair\n",
    "\n",
    "program = guppy.compile(make_struct)"
   ]
  },
  {
   "cell_type": "markdown",
   "id": "f1dacfd6",
   "metadata": {},
   "source": [
    "## Nested & Higher-Order Functions\n",
    "\n",
    "Guppy supports nested function definitions with variables captured from outer scopes."
   ]
  },
  {
   "cell_type": "code",
   "execution_count": 12,
   "id": "45a7a1a4",
   "metadata": {},
   "outputs": [],
   "source": [
    "@guppy\n",
    "def outer(x: int) -> int:\n",
    "    def nested(y: int) -> int:\n",
    "        return x + y\n",
    "    return nested(42)\n",
    "\n",
    "program = guppy.compile(outer)"
   ]
  },
  {
   "cell_type": "markdown",
   "id": "aec490a2",
   "metadata": {},
   "source": [
    "However, similar to regular Python, variables from enclosing functions scopes may not be modified. Python's `global` and `nonlocal` statements are not supported by Guppy."
   ]
  },
  {
   "cell_type": "code",
   "execution_count": 13,
   "id": "3e021bd4",
   "metadata": {
    "tags": [
     "raises-exception"
    ]
   },
   "outputs": [
    {
     "name": "stderr",
     "output_type": "stream",
     "text": [
      "Error: Illegal assignment (at <In [13]>:4:8)\n",
      "  | \n",
      "2 | def outer(x: int) -> int:\n",
      "3 |     def nested() -> None:\n",
      "4 |         x += 1  # Mutation of captured variable x is not allowed\n",
      "  |         ^^^^^^ Variable `x` may not be assigned to since `x` is captured\n",
      "  |                from an outer scope\n",
      "  | \n",
      "2 | def outer(x: int) -> int:\n",
      "  |           ------ `x` defined here\n",
      "\n",
      "Guppy compilation failed due to 1 previous error\n"
     ]
    }
   ],
   "source": [
    "@guppy\n",
    "def outer(x: int) -> int:\n",
    "    def nested() -> None:\n",
    "        x += 1  # Mutation of captured variable x is not allowed\n",
    "    nested()\n",
    "    return x\n",
    "\n",
    "guppy.compile(outer)  # Raises an error"
   ]
  },
  {
   "cell_type": "markdown",
   "id": "53568663",
   "metadata": {},
   "source": [
    "Functions can be used as higher-order values using Python's `Callable` type."
   ]
  },
  {
   "cell_type": "code",
   "execution_count": 14,
   "id": "892dd693",
   "metadata": {},
   "outputs": [],
   "source": [
    "from typing import Callable\n",
    "\n",
    "@guppy\n",
    "def increment_by(inc: int) -> Callable[[int], int]:\n",
    "    def closure(x: int) -> int:\n",
    "        return x + inc\n",
    "    return closure\n",
    "\n",
    "@guppy\n",
    "def main(x: int) -> int:\n",
    "    inc5 = increment_by(5)\n",
    "    return inc5(x)\n",
    "\n",
    "program = guppy.compile(main)"
   ]
  }
 ],
 "metadata": {
  "kernelspec": {
   "display_name": "Python 3 (ipykernel)",
   "language": "python",
   "name": "python3"
  },
  "language_info": {
   "codemirror_mode": {
    "name": "ipython",
    "version": 3
   },
   "file_extension": ".py",
   "mimetype": "text/x-python",
   "name": "python",
   "nbconvert_exporter": "python",
   "pygments_lexer": "ipython3",
   "version": "3.11.6"
  }
 },
 "nbformat": 4,
 "nbformat_minor": 5
}

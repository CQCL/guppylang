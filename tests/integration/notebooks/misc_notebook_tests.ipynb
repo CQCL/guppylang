{
 "cells": [
  {
   "cell_type": "code",
   "execution_count": 1,
   "id": "a082a8bf-8d3f-491c-8e39-f0876abff93d",
   "metadata": {
    "editable": true,
    "slideshow": {
     "slide_type": ""
    },
    "tags": []
   },
   "outputs": [],
   "source": [
    "from guppylang.decorator import guppy"
   ]
  },
  {
   "cell_type": "markdown",
   "id": "67f32ad9-0601-4f61-9a70-2697bf7aabde",
   "metadata": {},
   "source": [
    "Test that functions registered inside calls still produce correct diagnostic spans. See https://github.com/CQCL/guppylang/issues/906"
   ]
  },
  {
   "cell_type": "code",
   "execution_count": 2,
   "id": "cc7b3941-7f9d-4f8f-aeb7-e663ec83e159",
   "metadata": {
    "editable": true,
    "slideshow": {
     "slide_type": ""
    },
    "tags": [
     "raises-exception"
    ]
   },
   "outputs": [
    {
     "name": "stderr",
     "output_type": "stream",
     "text": [
      "Error: Type mismatch (at <In[2]>:4:15)\n",
      "  | \n",
      "2 |     @guppy\n",
      "3 |     def foo() -> int:\n",
      "4 |         return 1.0\n",
      "  |                ^^^ Expected return value of type `int`, got `float`\n",
      "\n",
      "Guppy compilation failed due to 1 previous error\n"
     ]
    }
   ],
   "source": [
    "def make():    \n",
    "    @guppy\n",
    "    def foo() -> int:    \n",
    "        return 1.0\n",
    "\n",
    "    return foo\n",
    "\n",
    "foo = make()\n",
    "\n",
    "@guppy\n",
    "def main() -> int:\n",
    "    return foo()\n",
    "\n",
    "main.compile();"
   ]
  },
  {
   "cell_type": "code",
   "execution_count": 3,
   "id": "7935e897-1f8c-49f5-8d32-64bdf86f58f5",
   "metadata": {
    "editable": true,
    "slideshow": {
     "slide_type": ""
    },
    "tags": [
     "raises-exception"
    ]
   },
   "outputs": [
    {
     "name": "stderr",
     "output_type": "stream",
     "text": [
      "Error: Operator not defined (at <In[3]>:6:8)\n",
      "  | \n",
      "4 |     @guppy\n",
      "5 |     def f() -> None:\n",
      "6 |         1 + False  # Any type error here will do\n",
      "  |         ^^^^^^^^^ Binary operator `+` not defined for `int` and `bool`\n",
      "\n",
      "Guppy compilation failed due to 1 previous error\n"
     ]
    }
   ],
   "source": [
    "# See https://github.com/CQCL/guppylang/issues/1053\n",
    "\n",
    "def make():\n",
    "    @guppy\n",
    "    def f() -> None:\n",
    "        1 + False  # Any type error here will do\n",
    "\n",
    "    return f\n",
    "\n",
    "make().compile()"
   ]
  },
  {
   "cell_type": "code",
   "execution_count": 4,
   "id": "62686805-be6d-409e-be0a-1aac97889831",
   "metadata": {
    "editable": true,
    "slideshow": {
     "slide_type": ""
    },
    "tags": [
     "raises-exception"
    ]
   },
   "outputs": [
    {
     "name": "stderr",
     "output_type": "stream",
     "text": [
      "Error: Not enough arguments (at <In[4]>:16:19)\n",
      "   | \n",
      "14 | @guppy\n",
      "15 | def main() -> MyStruct:\n",
      "16 |     return MyStruct()\n",
      "   |                    ^^ Missing argument (expected 1, got 0)\n",
      "\n",
      "Note: Function signature is `int -> MyStruct`\n",
      "\n",
      "Guppy compilation failed due to 1 previous error\n"
     ]
    }
   ],
   "source": [
    "@guppy.struct\n",
    "class MyStruct:\n",
    "    pass\n",
    "\n",
    "def make():\n",
    "    @guppy.struct\n",
    "    class MyStruct:\n",
    "        x: int\n",
    "\n",
    "    return MyStruct\n",
    "\n",
    "MyStruct = make()\n",
    "\n",
    "@guppy\n",
    "def main() -> MyStruct:\n",
    "    return MyStruct()\n",
    "\n",
    "main.compile()"
   ]
  },
  {
   "cell_type": "code",
   "execution_count": 5,
   "id": "82b85f1d-99bc-4207-95da-22be44c4f4ca",
   "metadata": {
    "editable": true,
    "slideshow": {
     "slide_type": ""
    },
    "tags": [
     "raises-exception"
    ]
   },
   "outputs": [
    {
     "name": "stderr",
     "output_type": "stream",
     "text": [
      "Error: Drop violation (at <In[5]>:12:14)\n",
      "   | \n",
      "10 | \n",
      "11 |     @guppy\n",
      "12 |     def wrong(self: \"Struct\" @ owned) -> None:\n",
      "   |               ^^^^^^^^^^^^^^^^^^^^^^ Field `self.q` with non-droppable type `qubit` is leaked\n",
      "\n",
      "Help: Make sure that `self.q` is consumed or returned to avoid the leak\n",
      "\n",
      "Guppy compilation failed due to 1 previous error\n"
     ]
    }
   ],
   "source": [
    "# See https://github.com/CQCL/guppylang/issues/937\n",
    "\n",
    "from guppylang.std.quantum import discard\n",
    "from guppylang.std.builtins import owned\n",
    "from guppylang.std.quantum import qubit\n",
    "\n",
    "@guppy.struct\n",
    "class Struct:\n",
    "    q: qubit\n",
    "\n",
    "    @guppy\n",
    "    def wrong(self: \"Struct\" @ owned) -> None:\n",
    "        pass # self.discard() would work\n",
    "\n",
    "    @guppy\n",
    "    def discard(self: \"Struct\" @ owned) -> None:\n",
    "        discard(self.q)\n",
    "\n",
    "@guppy\n",
    "def main() -> None:\n",
    "    Struct(qubit()).wrong()\n",
    "\n",
    "    \n",
    "main.compile()"
   ]
  }
 ],
 "metadata": {
  "kernelspec": {
   "display_name": "Python 3 (ipykernel)",
   "language": "python",
   "name": "python3"
  },
  "language_info": {
   "codemirror_mode": {
    "name": "ipython",
    "version": 3
   },
   "file_extension": ".py",
   "mimetype": "text/x-python",
   "name": "python",
   "nbconvert_exporter": "python",
   "pygments_lexer": "ipython3",
   "version": "3.13.0"
  }
 },
 "nbformat": 4,
 "nbformat_minor": 5
}

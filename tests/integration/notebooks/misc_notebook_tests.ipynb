{
 "cells": [
  {
   "cell_type": "code",
   "execution_count": 1,
   "id": "a082a8bf-8d3f-491c-8e39-f0876abff93d",
   "metadata": {
    "editable": true,
    "slideshow": {
     "slide_type": ""
    },
    "tags": []
   },
   "outputs": [],
   "source": [
    "from guppylang.decorator import guppy\n",
    "from guppylang.module import GuppyModule"
   ]
  },
  {
   "cell_type": "markdown",
   "id": "67f32ad9-0601-4f61-9a70-2697bf7aabde",
   "metadata": {},
   "source": [
    "Test that functions registered inside calls still produce correct diagnostic spans. See https://github.com/CQCL/guppylang/issues/906"
   ]
  },
  {
   "cell_type": "code",
   "execution_count": 2,
   "id": "cc7b3941-7f9d-4f8f-aeb7-e663ec83e159",
   "metadata": {
    "editable": true,
    "slideshow": {
     "slide_type": ""
    },
    "tags": [
     "raises-exception"
    ]
   },
   "outputs": [
    {
     "name": "stderr",
     "output_type": "stream",
     "text": [
      "Error: Type mismatch (at <In [?]>:3:15)\n",
      "  | \n",
      "1 |     @guppy(module)\n",
      "2 |     def foo() -> int:    \n",
      "3 |         return 1.0\n",
      "  |                ^^^ Expected return value of type `int`, got `float`\n",
      "\n",
      "Guppy compilation failed due to 1 previous error\n"
     ]
    }
   ],
   "source": [
    "def make():\n",
    "    module = GuppyModule(\"module\")\n",
    "    \n",
    "    @guppy(module)\n",
    "    def foo() -> int:    \n",
    "        return 1.0\n",
    "\n",
    "    return foo\n",
    "\n",
    "foo = make()\n",
    "\n",
    "@guppy\n",
    "def main() -> int:\n",
    "    return foo()\n",
    "\n",
    "guppy.compile_module();"
   ]
  }
 ],
 "metadata": {
  "kernelspec": {
   "display_name": "Python 3 (ipykernel)",
   "language": "python",
   "name": "python3"
  },
  "language_info": {
   "codemirror_mode": {
    "name": "ipython",
    "version": 3
   },
   "file_extension": ".py",
   "mimetype": "text/x-python",
   "name": "python",
   "nbconvert_exporter": "python",
   "pygments_lexer": "ipython3",
   "version": "3.11.6"
  }
 },
 "nbformat": 4,
 "nbformat_minor": 5
}

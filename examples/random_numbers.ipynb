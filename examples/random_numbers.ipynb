{
 "cells": [
  {
   "cell_type": "markdown",
   "metadata": {},
   "source": [
    "# Random Number Generation\n",
    "\n",
    "**Download this notebook - {nb-download}`random_numbers.ipynb`**\n",
    "\n",
    "In this simple example we look at using random numbers with Guppy and Selene.\n",
    "The example randomly applies simple identities to a qubit. This style of program is\n",
    "often used in [Randomized\n",
    "Benchmarking](https://en.wikipedia.org/wiki/Randomized_benchmarking)\n",
    "as the rate of unexpected outcomes can indicate error rates in the system.\n",
    "\n",
    "There are two ways of using random numbers:\n",
    "1. Generate them ahead of time in Python and store in the Guppy program.\n",
    "2. Generate them on the fly.\n",
    "\n",
    "We will look at both options."
   ]
  },
  {
   "cell_type": "code",
   "execution_count": 1,
   "metadata": {},
   "outputs": [],
   "source": [
    "import random\n",
    "\n",
    "from guppylang import guppy\n",
    "from guppylang.std.builtins import barrier, comptime, result\n",
    "from guppylang.std.qsystem.random import RNG\n",
    "from guppylang.std.qsystem.utils import get_current_shot\n",
    "from guppylang.std.quantum import measure, qubit, x, y, z\n",
    "from guppylang.defs import GuppyFunctionDefinition"
   ]
  },
  {
   "cell_type": "markdown",
   "metadata": {},
   "source": [
    "Let's decide on a seed and make sure we use it for both Python and Guppy randomness, to\n",
    "get deterministic results."
   ]
  },
  {
   "cell_type": "code",
   "execution_count": 2,
   "metadata": {},
   "outputs": [],
   "source": [
    "INIT_SEED = 91919\n",
    "random.seed(INIT_SEED)\n",
    "\n",
    "# number of shots we will run\n",
    "N_SHOTS = 100"
   ]
  },
  {
   "cell_type": "markdown",
   "metadata": {},
   "source": [
    "Let's first write our simple experiment functions in Guppy."
   ]
  },
  {
   "cell_type": "code",
   "execution_count": 3,
   "metadata": {},
   "outputs": [],
   "source": [
    "@guppy\n",
    "def rand_pauli(q: qubit, randval: int) -> None:\n",
    "    \"\"\"Applies a random pauli to a qubit given a number in {0, 1, 2}\"\"\"\n",
    "    if randval == 0:\n",
    "        x(q)\n",
    "    elif randval == 1:\n",
    "        y(q)\n",
    "    else:\n",
    "        z(q)\n",
    "\n",
    "\n",
    "@guppy\n",
    "def pauli_identity(q: qubit, randval: int) -> None:\n",
    "    \"\"\"Apply the same random pauli twice separated by a barrier.\n",
    "    Acts as identity in noiseless case since Paulis are self-adjoint.\"\"\"\n",
    "    rand_pauli(q, randval)\n",
    "    barrier(q)\n",
    "    rand_pauli(q, randval)"
   ]
  },
  {
   "cell_type": "markdown",
   "metadata": {},
   "source": [
    "## Pre-compiled randomness\n",
    "\n",
    "First we generate all the random numbers we need ahead of time in Python.\n",
    "This can be stored as an array of integers in a Guppy program using the `comptime`\n",
    "expression.\n",
    "At runtime we use the current shot value to index in to the array and get a fresh random\n",
    "integer for the shot.\n",
    "\n",
    "We report out both the result of measuring the qubit, and the random number used."
   ]
  },
  {
   "cell_type": "code",
   "execution_count": 4,
   "metadata": {},
   "outputs": [],
   "source": [
    "# randint upper bound is inclusive\n",
    "randints = [random.randint(0, 2) for _ in range(N_SHOTS)]\n",
    "\n",
    "\n",
    "@guppy\n",
    "def main() -> None:\n",
    "    q = qubit()\n",
    "    randval = comptime(randints)[get_current_shot()]\n",
    "    pauli_identity(q, randval)\n",
    "    result(\"rng\", randval)\n",
    "    result(\"c\", measure(q))"
   ]
  },
  {
   "cell_type": "markdown",
   "metadata": {},
   "source": [
    "We also define a helper function to run our Guppy program.\n",
    "It runs `N_SHOTS` repeats of the program using Stim simulation (since our program is Clifford).\n",
    "\n",
    "No noise model is used so the measurement result \"c\" should always be 0.\n",
    "The function reports the mean of the random numbers over the shots - we expect this to be around 1."
   ]
  },
  {
   "cell_type": "code",
   "execution_count": 5,
   "metadata": {},
   "outputs": [],
   "source": [
    "def run(main_def: GuppyFunctionDefinition) -> float:\n",
    "    \"\"\"Run the rng example and return the mean of the random numbers generated.\n",
    "\n",
    "    Checks measurement always returns 0 (identity operation on 0 state).\n",
    "    \"\"\"\n",
    "    shots = main_def.emulator(n_qubits=1).stabilizer_sim().with_seed(INIT_SEED).with_shots(N_SHOTS).run()\n",
    "    rands = []\n",
    "    for out in shots.collated_shots():\n",
    "        assert out[\"c\"] == [0]\n",
    "        rands.extend(out[\"rng\"])\n",
    "    return sum(rands) / len(rands)"
   ]
  },
  {
   "cell_type": "code",
   "execution_count": 6,
   "metadata": {},
   "outputs": [
    {
     "data": {
      "text/plain": [
       "1.04"
      ]
     },
     "execution_count": 6,
     "metadata": {},
     "output_type": "execute_result"
    }
   ],
   "source": [
    "run(main)"
   ]
  },
  {
   "cell_type": "markdown",
   "metadata": {},
   "source": [
    "## Runtime randomness\n",
    "\n",
    "The Selene emulator supports random number generation at runtime.\n",
    "This has slightly different behaviour to Python:\n",
    "- To ensure reproducibility you always have to provide a seed to initialise an `RNG`\n",
    "  object. Methods on this object can return random values.\n",
    "- The `RNG` type is linear (like a qubit) and has to be explicitly discarded. This is also\n",
    "  to ensure determinism as it prevents random number generation calls being re-ordered\n",
    "  by the compiler.\n",
    "\n",
    "The benefit over generating ahead of time is that for large experiments you can avoid storing a huge amount of random\n",
    "numbers in the program.\n",
    "\n",
    "We can use the `RNG` type to re-write our main function, using our `INIT_SEED` along\n",
    "with a shift by current shot number to get a different number in each shot:"
   ]
  },
  {
   "cell_type": "code",
   "execution_count": 7,
   "metadata": {},
   "outputs": [],
   "source": [
    "@guppy\n",
    "def main() -> None:\n",
    "    q = qubit()\n",
    "    rng = RNG(comptime(INIT_SEED) + get_current_shot())\n",
    "    # random_int_bounded upper bound is exclusive,\n",
    "    # chooses a number in {0, 1, 2}\n",
    "    randval = rng.random_int_bounded(3)\n",
    "    rng.discard()\n",
    "    pauli_identity(q, randval)\n",
    "    result(\"rng\", randval)\n",
    "    result(\"c\", measure(q))"
   ]
  },
  {
   "cell_type": "code",
   "execution_count": 8,
   "metadata": {},
   "outputs": [
    {
     "data": {
      "text/plain": [
       "0.95"
      ]
     },
     "execution_count": 8,
     "metadata": {},
     "output_type": "execute_result"
    }
   ],
   "source": [
    "run(main)"
   ]
  }
 ],
 "metadata": {
  "kernelspec": {
   "display_name": "venv",
   "language": "python",
   "name": "python3"
  },
  "language_info": {
   "codemirror_mode": {
    "name": "ipython",
    "version": 3
   },
   "file_extension": ".py",
   "mimetype": "text/x-python",
   "name": "python",
   "nbconvert_exporter": "python",
   "pygments_lexer": "ipython3",
   "version": "3.13.4"
  }
 },
 "nbformat": 4,
 "nbformat_minor": 4
}

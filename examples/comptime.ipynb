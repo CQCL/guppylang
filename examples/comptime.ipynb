{
 "cells": [
  {
   "cell_type": "markdown",
   "id": "fccf55ad-3db2-40a4-89c7-8c5e08f3397c",
   "metadata": {},
   "source": [
    "# Comptime Demo\n",
    "\n",
    "This notebook showcases the new experimental comptime mode in Guppy."
   ]
  },
  {
   "cell_type": "code",
   "execution_count": 1,
   "id": "8f121875-45f5-4cb8-aeef-2c56542a845e",
   "metadata": {},
   "outputs": [],
   "source": [
    "from guppylang import GuppyModule, qubit\n",
    "from guppylang.decorator import guppy\n",
    "from guppylang.std.builtins import array\n",
    "from guppylang.std.quantum import h, cx, rz, measure\n",
    "from guppylang.std.angles import angle, pi\n",
    "from guppylang.std import quantum\n",
    "from guppylang.std import angles\n",
    "\n",
    "from hugr.hugr.render import DotRenderer"
   ]
  },
  {
   "cell_type": "markdown",
   "id": "d03f3ee4-3ec7-43be-beae-8d832aef2e31",
   "metadata": {},
   "source": [
    "## Intro\n",
    "\n",
    "Comptime functions are executed using the Python interpreter which drives the Hugr generation. Thus, comptime functions can contain arbitrary Python code, but everything is evaluated at compile-time. The result is a flat Hugr program:"
   ]
  },
  {
   "cell_type": "code",
   "execution_count": 2,
   "id": "3404519a-e790-4028-87f8-a9d25cee9eab",
   "metadata": {},
   "outputs": [],
   "source": [
    "module = GuppyModule(\"test\")\n",
    "module.load_all(quantum)\n",
    "\n",
    "@guppy.comptime(module)\n",
    "def ladder() -> array[qubit, 5]:\n",
    "    qs = [qubit() for _ in range(5)]\n",
    "    for q in qs:\n",
    "        h(q)\n",
    "    for q1, q2 in zip(qs[1:], qs[:-1]):\n",
    "        cx(q1, q2)\n",
    "    return qs\n",
    "\n",
    "DotRenderer().render(module.compile().module);"
   ]
  },
  {
   "cell_type": "markdown",
   "id": "427aea92-dc18-4094-850e-1c5a6a4338ca",
   "metadata": {},
   "source": [
    "Comptime functions can be called from regular Guppy functions and vice versa."
   ]
  },
  {
   "cell_type": "code",
   "execution_count": 3,
   "id": "9349ad6c-f131-48cc-941e-b259673b4138",
   "metadata": {
    "editable": true,
    "slideshow": {
     "slide_type": ""
    },
    "tags": [
     "raises-exception"
    ]
   },
   "outputs": [],
   "source": [
    "module = GuppyModule(\"test\")\n",
    "module.load_all(quantum)\n",
    "\n",
    "@guppy(module)\n",
    "def regular1() -> tuple[qubit, qubit]:\n",
    "    q1 = qubit()\n",
    "    h(q1)\n",
    "    q2 = comptime_func(q1)\n",
    "    return q1, q2\n",
    "\n",
    "@guppy.comptime(module)\n",
    "def comptime_func(q: qubit) -> qubit:\n",
    "    r = regular2()\n",
    "    cx(q, r)\n",
    "    return r\n",
    "\n",
    "@guppy(module)\n",
    "def regular2() -> qubit:\n",
    "    q = qubit()\n",
    "    h(q)\n",
    "    return q\n",
    "\n",
    "module.compile();"
   ]
  },
  {
   "cell_type": "markdown",
   "id": "0465ad90-9fa9-4e07-97fe-3e37266429e1",
   "metadata": {},
   "source": [
    "Comptime functions can even call out to non-Guppy functions and pass qubits along as data:"
   ]
  },
  {
   "cell_type": "code",
   "execution_count": 4,
   "id": "1f5d84b6-40af-43c0-b229-80ab5af730d9",
   "metadata": {},
   "outputs": [],
   "source": [
    "module = GuppyModule(\"test\")\n",
    "module.load_all(quantum)\n",
    "\n",
    "@guppy.comptime(module)\n",
    "def foo() -> qubit:\n",
    "    q = qubit()\n",
    "    bar(q)\n",
    "    return q\n",
    "\n",
    "def bar(q):\n",
    "    \"\"\"Regular Python function, no type annotations needed\"\"\"\n",
    "    h(q)\n",
    "\n",
    "module.compile();"
   ]
  },
  {
   "cell_type": "markdown",
   "id": "f1aca673-7796-4caf-928e-d19cdb03dfc0",
   "metadata": {},
   "source": [
    "## Arithmetic\n",
    "\n",
    "Traced functions can do arbitrary arithmetic on their inputs:"
   ]
  },
  {
   "cell_type": "code",
   "execution_count": 5,
   "id": "a60d6b2c-c2fe-4ea0-9905-1f9c1fbc3f2e",
   "metadata": {
    "editable": true,
    "slideshow": {
     "slide_type": ""
    },
    "tags": []
   },
   "outputs": [],
   "source": [
    "module = GuppyModule(\"test\")\n",
    "module.load_all(quantum)\n",
    "\n",
    "@guppy.comptime(module)\n",
    "def foo(q: qubit, x: float) -> None:\n",
    "    x = x * 2\n",
    "    #print(x)  # What is x?\n",
    "    rz(q, angle(x))\n",
    "\n",
    "module.compile();"
   ]
  },
  {
   "cell_type": "markdown",
   "id": "38e14bc8-15af-4787-b14b-acffe673ee7d",
   "metadata": {},
   "source": [
    "However, we are not allowed to branch conditioned on the value of `x`:"
   ]
  },
  {
   "cell_type": "code",
   "execution_count": 6,
   "id": "df4b2283-f948-44d5-bcd9-77d6b2b0698e",
   "metadata": {
    "editable": true,
    "slideshow": {
     "slide_type": ""
    },
    "tags": [
     "raises-exception"
    ]
   },
   "outputs": [
    {
     "ename": "GuppyComptimeError",
     "evalue": "Can't branch on a dynamic Guppy value since it's concrete value is not known at comptime. Consider defining a regular Guppy function to perform dynamic branching.",
     "output_type": "error",
     "traceback": [
      "\u001b[0;31m---------------------------------------------------------------------------\u001b[0m",
      "\u001b[0;31mGuppyComptimeError\u001b[0m                        Traceback (most recent call last)",
      "    \u001b[0;31m[... skipping hidden 1 frame]\u001b[0m\n",
      "Cell \u001b[0;32mIn[6], line 10\u001b[0m\n\u001b[1;32m      7\u001b[0m     \u001b[38;5;28;01mif\u001b[39;00m x \u001b[38;5;241m>\u001b[39m \u001b[38;5;241m3\u001b[39m:\n\u001b[1;32m      8\u001b[0m         rz(q, angle(x))\n\u001b[0;32m---> 10\u001b[0m \u001b[43mmodule\u001b[49m\u001b[38;5;241;43m.\u001b[39;49m\u001b[43mcompile\u001b[49m\u001b[43m(\u001b[49m\u001b[43m)\u001b[49m;\n",
      "Cell \u001b[0;32mIn[6], line 7\u001b[0m, in \u001b[0;36mfoo\u001b[0;34m(q, x)\u001b[0m\n\u001b[1;32m      4\u001b[0m \u001b[38;5;129m@guppy\u001b[39m\u001b[38;5;241m.\u001b[39mcomptime(module)\n\u001b[1;32m      5\u001b[0m \u001b[38;5;28;01mdef\u001b[39;00m\u001b[38;5;250m \u001b[39m\u001b[38;5;21mfoo\u001b[39m(q: qubit, x: \u001b[38;5;28mfloat\u001b[39m) \u001b[38;5;241m-\u001b[39m\u001b[38;5;241m>\u001b[39m \u001b[38;5;28;01mNone\u001b[39;00m:\n\u001b[1;32m      6\u001b[0m     x \u001b[38;5;241m=\u001b[39m x \u001b[38;5;241m*\u001b[39m \u001b[38;5;241m2\u001b[39m\n\u001b[0;32m----> 7\u001b[0m     \u001b[38;5;28;01mif\u001b[39;00m x \u001b[38;5;241m>\u001b[39m \u001b[38;5;241m3\u001b[39m:\n\u001b[1;32m      8\u001b[0m         rz(q, angle(x))\n",
      "\u001b[0;31mGuppyComptimeError\u001b[0m: Can't branch on a dynamic Guppy value since it's concrete value is not known at comptime. Consider defining a regular Guppy function to perform dynamic branching."
     ]
    }
   ],
   "source": [
    "module = GuppyModule(\"test\")\n",
    "module.load_all(quantum)\n",
    "\n",
    "@guppy.comptime(module)\n",
    "def foo(q: qubit, x: float) -> None:\n",
    "    x = x * 2\n",
    "    if x > 3:\n",
    "        rz(q, angle(x))\n",
    "\n",
    "module.compile();"
   ]
  },
  {
   "cell_type": "markdown",
   "id": "588055a5-eea0-4bdf-ac89-e2d1b9a4c292",
   "metadata": {},
   "source": [
    "Similarly, we can't branch on measurement results inside the tracing context:"
   ]
  },
  {
   "cell_type": "code",
   "execution_count": 7,
   "id": "0b4fc5ae-7ae5-4230-a640-0f38ddb167ad",
   "metadata": {
    "editable": true,
    "slideshow": {
     "slide_type": ""
    },
    "tags": [
     "raises-exception"
    ]
   },
   "outputs": [
    {
     "ename": "GuppyComptimeError",
     "evalue": "Can't branch on a dynamic Guppy value since it's concrete value is not known at comptime. Consider defining a regular Guppy function to perform dynamic branching.",
     "output_type": "error",
     "traceback": [
      "\u001b[0;31m---------------------------------------------------------------------------\u001b[0m",
      "\u001b[0;31mGuppyComptimeError\u001b[0m                        Traceback (most recent call last)",
      "    \u001b[0;31m[... skipping hidden 1 frame]\u001b[0m\n",
      "Cell \u001b[0;32mIn[7], line 9\u001b[0m\n\u001b[1;32m      6\u001b[0m     \u001b[38;5;28;01mif\u001b[39;00m measure(q):\n\u001b[1;32m      7\u001b[0m         \u001b[38;5;28mprint\u001b[39m(\u001b[38;5;124m\"\u001b[39m\u001b[38;5;124mXXX\u001b[39m\u001b[38;5;124m\"\u001b[39m)\n\u001b[0;32m----> 9\u001b[0m \u001b[43mmodule\u001b[49m\u001b[38;5;241;43m.\u001b[39;49m\u001b[43mcompile\u001b[49m\u001b[43m(\u001b[49m\u001b[43m)\u001b[49m;\n",
      "Cell \u001b[0;32mIn[7], line 6\u001b[0m, in \u001b[0;36mfoo\u001b[0;34m(q)\u001b[0m\n\u001b[1;32m      4\u001b[0m \u001b[38;5;129m@guppy\u001b[39m\u001b[38;5;241m.\u001b[39mcomptime(module)\n\u001b[1;32m      5\u001b[0m \u001b[38;5;28;01mdef\u001b[39;00m\u001b[38;5;250m \u001b[39m\u001b[38;5;21mfoo\u001b[39m(q: qubit) \u001b[38;5;241m-\u001b[39m\u001b[38;5;241m>\u001b[39m \u001b[38;5;28;01mNone\u001b[39;00m:\n\u001b[0;32m----> 6\u001b[0m     \u001b[38;5;28;01mif\u001b[39;00m measure(q):\n\u001b[1;32m      7\u001b[0m         \u001b[38;5;28mprint\u001b[39m(\u001b[38;5;124m\"\u001b[39m\u001b[38;5;124mXXX\u001b[39m\u001b[38;5;124m\"\u001b[39m)\n",
      "\u001b[0;31mGuppyComptimeError\u001b[0m: Can't branch on a dynamic Guppy value since it's concrete value is not known at comptime. Consider defining a regular Guppy function to perform dynamic branching."
     ]
    }
   ],
   "source": [
    "module = GuppyModule(\"test\")\n",
    "module.load_all(quantum)\n",
    "\n",
    "@guppy.comptime(module)\n",
    "def foo(q: qubit) -> None:\n",
    "    if measure(q):\n",
    "        print(\"XXX\")\n",
    "\n",
    "module.compile();"
   ]
  },
  {
   "cell_type": "markdown",
   "id": "4171a7d1-7322-4e7e-8f2a-d85e3bc17645",
   "metadata": {},
   "source": [
    "Also, we can't use regular inputs to control the size of registers:"
   ]
  },
  {
   "cell_type": "code",
   "execution_count": 8,
   "id": "0bc00ed5-2b3f-473b-8ed1-932171a503be",
   "metadata": {
    "editable": true,
    "slideshow": {
     "slide_type": ""
    },
    "tags": [
     "raises-exception"
    ]
   },
   "outputs": [
    {
     "ename": "TypeError",
     "evalue": "'GuppyObject' object cannot be interpreted as an integer",
     "output_type": "error",
     "traceback": [
      "\u001b[0;31m---------------------------------------------------------------------------\u001b[0m",
      "\u001b[0;31mTypeError\u001b[0m                                 Traceback (most recent call last)",
      "    \u001b[0;31m[... skipping hidden 1 frame]\u001b[0m\n",
      "Cell \u001b[0;32mIn[8], line 8\u001b[0m\n\u001b[1;32m      4\u001b[0m \u001b[38;5;129m@guppy\u001b[39m\u001b[38;5;241m.\u001b[39mcomptime(module)\n\u001b[1;32m      5\u001b[0m \u001b[38;5;28;01mdef\u001b[39;00m\u001b[38;5;250m \u001b[39m\u001b[38;5;21mfoo\u001b[39m(n: \u001b[38;5;28mint\u001b[39m) \u001b[38;5;241m-\u001b[39m\u001b[38;5;241m>\u001b[39m \u001b[38;5;28;01mNone\u001b[39;00m:\n\u001b[1;32m      6\u001b[0m     qs \u001b[38;5;241m=\u001b[39m [qubit() \u001b[38;5;28;01mfor\u001b[39;00m _ \u001b[38;5;129;01min\u001b[39;00m \u001b[38;5;28mrange\u001b[39m(n)]\n\u001b[0;32m----> 8\u001b[0m \u001b[43mmodule\u001b[49m\u001b[38;5;241;43m.\u001b[39;49m\u001b[43mcompile\u001b[49m\u001b[43m(\u001b[49m\u001b[43m)\u001b[49m;\n",
      "Cell \u001b[0;32mIn[8], line 6\u001b[0m, in \u001b[0;36mfoo\u001b[0;34m(n)\u001b[0m\n\u001b[1;32m      4\u001b[0m \u001b[38;5;129m@guppy\u001b[39m\u001b[38;5;241m.\u001b[39mcomptime(module)\n\u001b[1;32m      5\u001b[0m \u001b[38;5;28;01mdef\u001b[39;00m\u001b[38;5;250m \u001b[39m\u001b[38;5;21mfoo\u001b[39m(n: \u001b[38;5;28mint\u001b[39m) \u001b[38;5;241m-\u001b[39m\u001b[38;5;241m>\u001b[39m \u001b[38;5;28;01mNone\u001b[39;00m:\n\u001b[0;32m----> 6\u001b[0m     qs \u001b[38;5;241m=\u001b[39m [qubit() \u001b[38;5;28;01mfor\u001b[39;00m _ \u001b[38;5;129;01min\u001b[39;00m \u001b[38;5;28;43mrange\u001b[39;49m\u001b[43m(\u001b[49m\u001b[43mn\u001b[49m\u001b[43m)\u001b[49m]\n",
      "\u001b[0;31mTypeError\u001b[0m: 'GuppyObject' object cannot be interpreted as an integer"
     ]
    }
   ],
   "source": [
    "module = GuppyModule(\"test\")\n",
    "module.load_all(quantum)\n",
    "\n",
    "@guppy.comptime(module)\n",
    "def foo(n: int) -> None:\n",
    "    qs = [qubit() for _ in range(n)]\n",
    "\n",
    "module.compile();"
   ]
  },
  {
   "cell_type": "markdown",
   "id": "6baa993a-d64d-42a6-a342-03f850721f56",
   "metadata": {},
   "source": [
    "## Arrays and Lists\n",
    "\n",
    "Input arrays can be used like regular lists."
   ]
  },
  {
   "cell_type": "code",
   "execution_count": 9,
   "id": "16eb41ad-a3af-4731-8dab-c76b6d4273f6",
   "metadata": {
    "editable": true,
    "slideshow": {
     "slide_type": ""
    },
    "tags": []
   },
   "outputs": [],
   "source": [
    "module = GuppyModule(\"test\")\n",
    "module.load_all(quantum)\n",
    "\n",
    "@guppy.declare(module)\n",
    "def foo(qs: array[qubit, 10]) -> None: ...\n",
    "\n",
    "@guppy.comptime(module)\n",
    "def bar(qs: array[qubit, 10]) -> None:\n",
    "    # Arrays are iterable in the Python context\n",
    "    for q1, q2 in zip(qs[1:], qs[:-1]):\n",
    "        cx(q1, q2)\n",
    "    [start, *_, end] = qs\n",
    "    cx(start, end)\n",
    "\n",
    "    # Regular Guppy functions can be called with Python lists\n",
    "    # as long as the lengths match up\n",
    "    rev = [q for q in reversed(qs)]\n",
    "    foo(rev)\n",
    "\n",
    "module.compile();"
   ]
  },
  {
   "cell_type": "markdown",
   "id": "c134a7e5-65b1-48fe-872d-d145b88ce75f",
   "metadata": {},
   "source": [
    "## Safety"
   ]
  },
  {
   "cell_type": "code",
   "execution_count": 10,
   "id": "1b278240-35dc-479e-9a0b-2864368b27a9",
   "metadata": {
    "editable": true,
    "slideshow": {
     "slide_type": ""
    },
    "tags": [
     "raises-exception"
    ]
   },
   "outputs": [
    {
     "ename": "GuppyComptimeError",
     "evalue": "Value with non-copyable type `qubit` was already used\n\nPrevious use occurred in <In [10]>:6 as an argument to `cx`",
     "output_type": "error",
     "traceback": [
      "\u001b[0;31m---------------------------------------------------------------------------\u001b[0m",
      "\u001b[0;31mGuppyComptimeError\u001b[0m                        Traceback (most recent call last)",
      "    \u001b[0;31m[... skipping hidden 1 frame]\u001b[0m\n",
      "Cell \u001b[0;32mIn[10], line 8\u001b[0m\n\u001b[1;32m      4\u001b[0m \u001b[38;5;129m@guppy\u001b[39m\u001b[38;5;241m.\u001b[39mcomptime(module)\n\u001b[1;32m      5\u001b[0m \u001b[38;5;28;01mdef\u001b[39;00m\u001b[38;5;250m \u001b[39m\u001b[38;5;21mbad\u001b[39m(q: qubit) \u001b[38;5;241m-\u001b[39m\u001b[38;5;241m>\u001b[39m \u001b[38;5;28;01mNone\u001b[39;00m:\n\u001b[1;32m      6\u001b[0m     cx(q, q)\n\u001b[0;32m----> 8\u001b[0m \u001b[43mmodule\u001b[49m\u001b[38;5;241;43m.\u001b[39;49m\u001b[43mcompile\u001b[49m\u001b[43m(\u001b[49m\u001b[43m)\u001b[49m\n",
      "Cell \u001b[0;32mIn[10], line 6\u001b[0m, in \u001b[0;36mbad\u001b[0;34m(q)\u001b[0m\n\u001b[1;32m      4\u001b[0m \u001b[38;5;129m@guppy\u001b[39m\u001b[38;5;241m.\u001b[39mcomptime(module)\n\u001b[1;32m      5\u001b[0m \u001b[38;5;28;01mdef\u001b[39;00m\u001b[38;5;250m \u001b[39m\u001b[38;5;21mbad\u001b[39m(q: qubit) \u001b[38;5;241m-\u001b[39m\u001b[38;5;241m>\u001b[39m \u001b[38;5;28;01mNone\u001b[39;00m:\n\u001b[0;32m----> 6\u001b[0m     \u001b[43mcx\u001b[49m\u001b[43m(\u001b[49m\u001b[43mq\u001b[49m\u001b[43m,\u001b[49m\u001b[43m \u001b[49m\u001b[43mq\u001b[49m\u001b[43m)\u001b[49m\n",
      "\u001b[0;31mGuppyComptimeError\u001b[0m: Value with non-copyable type `qubit` was already used\n\nPrevious use occurred in <In [10]>:6 as an argument to `cx`"
     ]
    }
   ],
   "source": [
    "module = GuppyModule(\"test\")\n",
    "module.load_all(quantum)\n",
    "\n",
    "@guppy.comptime(module)\n",
    "def bad(q: qubit) -> None:\n",
    "    cx(q, q)\n",
    "\n",
    "module.compile()"
   ]
  },
  {
   "cell_type": "code",
   "execution_count": 11,
   "id": "8d50bfe3-125f-4737-9a85-7aba03a53684",
   "metadata": {
    "editable": true,
    "slideshow": {
     "slide_type": ""
    },
    "tags": [
     "raises-exception"
    ]
   },
   "outputs": [
    {
     "name": "stderr",
     "output_type": "stream",
     "text": [
      "Error: Error in comptime function return (at <In [11]>:5:0)\n",
      "  | \n",
      "3 | \n",
      "4 | @guppy.comptime(module)\n",
      "5 | def bad(q: qubit) -> qubit:\n",
      "  | ^^^^^^^^^^^^^^^^^^^^^^^^^^^\n",
      "6 |     return q\n",
      "  | ^^^^^^^^^^^^\n",
      "\n",
      "Argument `q` is borrowed, so it is implicitly returned to the caller. Value with\n",
      "non-copyable type `qubit` was already used\n",
      "\n",
      "Previous use occurred in <In [?]>:8.\n",
      "\n",
      "Guppy compilation failed due to 1 previous error\n"
     ]
    }
   ],
   "source": [
    "module = GuppyModule(\"test\")\n",
    "module.load_all(quantum)\n",
    "\n",
    "@guppy.comptime(module)\n",
    "def bad(q: qubit) -> qubit:\n",
    "    return q\n",
    "\n",
    "module.compile()"
   ]
  },
  {
   "cell_type": "code",
   "execution_count": 12,
   "id": "a1e3e917-ce2a-46cc-9a3c-cc980255d8c3",
   "metadata": {
    "editable": true,
    "slideshow": {
     "slide_type": ""
    },
    "tags": [
     "raises-exception"
    ]
   },
   "outputs": [
    {
     "name": "stderr",
     "output_type": "stream",
     "text": [
      "Error: Error in comptime function return (at <In [12]>:5:0)\n",
      "  | \n",
      "3 | \n",
      "4 | @guppy.comptime(module)\n",
      "5 | def bad(q: qubit) -> None:\n",
      "  | ^^^^^^^^^^^^^^^^^^^^^^^^^^\n",
      "  | ...\n",
      "7 |     cx(tmp, q)\n",
      "  | ^^^^^^^^^^^^^^\n",
      "\n",
      "Value with non-droppable type `qubit` is leaked by this function\n",
      "\n",
      "Guppy compilation failed due to 1 previous error\n"
     ]
    }
   ],
   "source": [
    "module = GuppyModule(\"test\")\n",
    "module.load_all(quantum)\n",
    "\n",
    "@guppy.comptime(module)\n",
    "def bad(q: qubit) -> None:\n",
    "    tmp = qubit()\n",
    "    cx(tmp, q)\n",
    "\n",
    "module.compile()"
   ]
  }
 ],
 "metadata": {
  "kernelspec": {
   "display_name": "Python 3 (ipykernel)",
   "language": "python",
   "name": "python3"
  },
  "language_info": {
   "codemirror_mode": {
    "name": "ipython",
    "version": 3
   },
   "file_extension": ".py",
   "mimetype": "text/x-python",
   "name": "python",
   "nbconvert_exporter": "python",
   "pygments_lexer": "ipython3",
   "version": "3.11.6"
  }
 },
 "nbformat": 4,
 "nbformat_minor": 5
}

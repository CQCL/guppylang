{
 "cells": [
  {
   "cell_type": "markdown",
   "id": "5662ddb4",
   "metadata": {},
   "source": [
    "# Guppy Demo\n",
    "\n",
    "This notebook gives a brief introduction to Guppy.\n",
    "\n",
    "Make sure that you have installed Guppy via `pip install guppylang`."
   ]
  },
  {
   "cell_type": "code",
   "execution_count": 1,
   "id": "fc9fe864",
   "metadata": {},
   "outputs": [],
   "source": [
    "import guppylang"
   ]
  },
  {
   "cell_type": "markdown",
   "id": "4dde1c29",
   "metadata": {},
   "source": [
    "## Getting Started\n",
    "\n",
    "Guppy programs are defined within a `GuppyModule`."
   ]
  },
  {
   "cell_type": "code",
   "execution_count": 2,
   "id": "17b0b90e",
   "metadata": {},
   "outputs": [],
   "source": [
    "from guppylang import GuppyModule\n",
    "\n",
    "module = GuppyModule(name=\"example_module\")"
   ]
  },
  {
   "cell_type": "markdown",
   "id": "c08caed7",
   "metadata": {},
   "source": [
    "Guppy functions look like regular Python functions that are annotated with the `@guppy` decorator."
   ]
  },
  {
   "cell_type": "code",
   "execution_count": 3,
   "id": "df7a3230",
   "metadata": {},
   "outputs": [],
   "source": [
    "from guppylang import guppy\n",
    "\n",
    "@guppy(module)\n",
    "def factorial(x: int) -> int:\n",
    "    \"\"\"Classical factorial function in Guppy.\"\"\"\n",
    "    acc = 1\n",
    "    while x > 0:\n",
    "        acc *= x\n",
    "        x -= 1\n",
    "    return acc"
   ]
  },
  {
   "cell_type": "markdown",
   "id": "2150bc3a",
   "metadata": {},
   "source": [
    "Guppy provides a special `qubit` type that quantum operations act on. Quantum operations become available once we import and load the `guppylang.std.quantum` module."
   ]
  },
  {
   "cell_type": "code",
   "execution_count": 4,
   "id": "c22795b6",
   "metadata": {},
   "outputs": [],
   "source": [
    "from guppylang.std.builtins import owned\n",
    "from guppylang.std.quantum import qubit, measure, h, cx\n",
    "\n",
    "module.load(qubit, h, cx, measure)\n",
    "\n",
    "@guppy(module)\n",
    "def bell() -> bool:\n",
    "    \"\"\"Prepares and measures a bell state.\n",
    "    \n",
    "    Returns the parity of the measurement results.\n",
    "    \"\"\"\n",
    "    # Allocate two fresh qubits\n",
    "    q1, q2 = qubit(), qubit()\n",
    "    # Entangle\n",
    "    h(q1)\n",
    "    cx(q1, q2)\n",
    "    h(q2)\n",
    "    # Measure\n",
    "    b1, b2 = measure(q1), measure(q2)\n",
    "    return b1 ^ b2"
   ]
  },
  {
   "cell_type": "markdown",
   "id": "bfefd31a",
   "metadata": {},
   "source": [
    "Once all functions have been defined, the module can be compiled."
   ]
  },
  {
   "cell_type": "code",
   "execution_count": 5,
   "id": "191573f5",
   "metadata": {},
   "outputs": [],
   "source": [
    "program = module.compile()"
   ]
  },
  {
   "cell_type": "markdown",
   "id": "e8e97304",
   "metadata": {},
   "source": [
    "Note that execution of programs is still work-in-progress and therefore not included in this notebook."
   ]
  },
  {
   "cell_type": "markdown",
   "id": "aa0b06e1",
   "metadata": {},
   "source": [
    "## Type System\n",
    "\n",
    "Guppy is strongly typed and requires type annotations for function arguments and returns as in the examples above.\n",
    "\n",
    "Ill-typed programs are rejected by the compiler. For example, observe the error when trying to compile the program below."
   ]
  },
  {
   "cell_type": "code",
   "execution_count": 6,
   "id": "450f8e25",
   "metadata": {
    "tags": [
     "raises-exception"
    ]
   },
   "outputs": [
    {
     "name": "stderr",
     "output_type": "stream",
     "text": [
      "Error: Operator not defined (at <In [6]>:6:11)\n",
      "  | \n",
      "4 | def bad(x: int) -> int:\n",
      "5 |     # Try to add a tuple to an int\n",
      "6 |     return x + (x, x)\n",
      "  |            ^^^^^^^^^^ Binary operator `+` not defined for `int` and `(int, int)`\n",
      "\n",
      "Guppy compilation failed due to 1 previous error\n"
     ]
    }
   ],
   "source": [
    "bad_module = GuppyModule(name=\"bad_module\")\n",
    "\n",
    "@guppy(bad_module)\n",
    "def bad(x: int) -> int:\n",
    "    # Try to add a tuple to an int\n",
    "    return x + (x, x)\n",
    "\n",
    "bad_module.compile()  # Raises an error"
   ]
  },
  {
   "cell_type": "markdown",
   "id": "10c3b7ec",
   "metadata": {},
   "source": [
    "Furthermore, the Guppy compiler ensures that variables are definitely initialised when they are used."
   ]
  },
  {
   "cell_type": "code",
   "execution_count": 7,
   "id": "654758a8",
   "metadata": {
    "tags": [
     "raises-exception"
    ]
   },
   "outputs": [
    {
     "name": "stderr",
     "output_type": "stream",
     "text": [
      "Error: Variable not defined (at <In [7]>:7:11)\n",
      "  | \n",
      "5 |     if b:\n",
      "6 |         x = 4\n",
      "7 |     return x  # x not defined if b is False\n",
      "  |            ^ `x` might be undefined ...\n",
      "  | \n",
      "5 |     if b:\n",
      "  |        - ... if this expression is `False`\n",
      "\n",
      "Guppy compilation failed due to 1 previous error\n"
     ]
    }
   ],
   "source": [
    "bad_module = GuppyModule(name=\"bad_module\")\n",
    "\n",
    "@guppy(bad_module)\n",
    "def bad(b: bool) -> int:\n",
    "    if b:\n",
    "        x = 4\n",
    "    return x  # x not defined if b is False\n",
    "\n",
    "bad_module.compile()  # Raises an error"
   ]
  },
  {
   "cell_type": "markdown",
   "id": "52301cf4",
   "metadata": {},
   "source": [
    "Similarly, variables must have a unique type when they are used."
   ]
  },
  {
   "cell_type": "code",
   "execution_count": 8,
   "id": "c1671ed8",
   "metadata": {
    "tags": [
     "raises-exception"
    ]
   },
   "outputs": [
    {
     "name": "stderr",
     "output_type": "stream",
     "text": [
      "Error: Different types (at <In [8]>:9:15)\n",
      "  | \n",
      "7 |     else:\n",
      "8 |         x = True\n",
      "9 |     return int(x)  # x has different types depending on b\n",
      "  |                ^ Variable `x` may refer to different types\n",
      "  | \n",
      "6 |         x = 4\n",
      "  |         - This is of type `int`\n",
      "  | \n",
      "8 |         x = True\n",
      "  |         - This is of type `bool`\n",
      "\n",
      "Guppy compilation failed due to 1 previous error\n"
     ]
    }
   ],
   "source": [
    "bad_module = GuppyModule(name=\"bad_module\")\n",
    "\n",
    "@guppy(bad_module)\n",
    "def bad(b: bool) -> int:\n",
    "    if b:\n",
    "        x = 4\n",
    "    else:\n",
    "        x = True\n",
    "    return int(x)  # x has different types depending on b\n",
    "\n",
    "bad_module.compile()  # Raises an error"
   ]
  },
  {
   "cell_type": "markdown",
   "id": "171851fb",
   "metadata": {},
   "source": [
    "## Linear Types\n",
    "\n",
    "Qubits in Guppy obey *linear typing*, i.e. they cannot be copied and may only be used once before they are reassigned."
   ]
  },
  {
   "cell_type": "code",
   "execution_count": 9,
   "id": "e9702a33",
   "metadata": {
    "tags": [
     "raises-exception"
    ]
   },
   "outputs": [
    {
     "name": "stderr",
     "output_type": "stream",
     "text": [
      "Error: Copy violation (at <In [9]>:6:10)\n",
      "  | \n",
      "4 | @guppy(bad_module)\n",
      "5 | def bad(q: qubit @owned) -> qubit:\n",
      "6 |     cx(q, q)\n",
      "  |           ^ Variable `q` with non-copyable type `qubit` cannot be\n",
      "  |             borrowed ...\n",
      "  | \n",
      "6 |     cx(q, q)\n",
      "  |        - since it was already borrowed here\n",
      "\n",
      "Guppy compilation failed due to 1 previous error\n"
     ]
    }
   ],
   "source": [
    "bad_module = GuppyModule(name=\"bad_module\")\n",
    "bad_module.load_all(guppylang.std.quantum)\n",
    "\n",
    "@guppy(bad_module)\n",
    "def bad(q: qubit @owned) -> qubit:\n",
    "    cx(q, q)\n",
    "    return q\n",
    "\n",
    "bad_module.compile()  # Raises an error"
   ]
  },
  {
   "cell_type": "markdown",
   "id": "46b7083d",
   "metadata": {},
   "source": [
    "Similarly, qubits cannot be implicitly dropped. They need to be returned from functions or explicitly measured or discarded."
   ]
  },
  {
   "cell_type": "code",
   "execution_count": 10,
   "id": "cec001fa",
   "metadata": {
    "tags": [
     "raises-exception"
    ]
   },
   "outputs": [
    {
     "name": "stderr",
     "output_type": "stream",
     "text": [
      "Error: Drop violation (at <In [10]>:6:4)\n",
      "  | \n",
      "4 | @guppy(bad_module)\n",
      "5 | def bad(q: qubit @owned) -> qubit:\n",
      "6 |     tmp = qubit()\n",
      "  |     ^^^ Variable `tmp` with non-droppable type `qubit` is leaked\n",
      "\n",
      "Help: Make sure that `tmp` is consumed or returned to avoid the leak\n",
      "\n",
      "Guppy compilation failed due to 1 previous error\n"
     ]
    }
   ],
   "source": [
    "bad_module = GuppyModule(name=\"bad_module\")\n",
    "bad_module.load_all(guppylang.std.quantum)\n",
    "\n",
    "@guppy(bad_module)\n",
    "def bad(q: qubit @owned) -> qubit:\n",
    "    tmp = qubit()\n",
    "    cx(tmp, q)\n",
    "    #discard(tmp)  # Compiler complains if tmp is not explicitly discarded\n",
    "    return q\n",
    "\n",
    "bad_module.compile()  # Raises an error"
   ]
  },
  {
   "cell_type": "markdown",
   "id": "5d2568a7",
   "metadata": {},
   "source": [
    "## Mutual Recursion\n",
    "\n",
    "Guppy functions support (mutual) recursion:"
   ]
  },
  {
   "cell_type": "code",
   "execution_count": 11,
   "id": "65b44bcf",
   "metadata": {},
   "outputs": [],
   "source": [
    "module = GuppyModule(\"mutual_recursion\")\n",
    "\n",
    "@guppy(module)\n",
    "def is_even(x: int) -> bool:\n",
    "    if x == 0:\n",
    "        return True\n",
    "    return is_odd(x-1)\n",
    "\n",
    "@guppy(module)\n",
    "def is_odd(x: int) -> bool:\n",
    "    if x == 0:\n",
    "        return False\n",
    "    return is_even(x-1)\n",
    "\n",
    "program = module.compile()"
   ]
  },
  {
   "cell_type": "markdown",
   "id": "380de22d",
   "metadata": {},
   "source": [
    "## Structs\n",
    "\n",
    "Structs can be used to group quantum and classical data."
   ]
  },
  {
   "cell_type": "code",
   "execution_count": 12,
   "id": "9425c332",
   "metadata": {},
   "outputs": [],
   "source": [
    "module = GuppyModule(\"structs\")\n",
    "module.load_all(guppylang.std.quantum)\n",
    "\n",
    "@guppy.struct(module)\n",
    "class QubitPair:\n",
    "    q1: qubit\n",
    "    q2: qubit\n",
    "\n",
    "    @guppy(module)\n",
    "    def method(self: \"QubitPair\") -> None:\n",
    "        h(self.q1)\n",
    "        cx(self.q1, self.q2)\n",
    "\n",
    "@guppy(module)\n",
    "def make_struct() -> QubitPair:\n",
    "    pair = QubitPair(qubit(), qubit())\n",
    "    pair.method()\n",
    "    return pair\n",
    "\n",
    "program = module.compile()"
   ]
  },
  {
   "cell_type": "markdown",
   "id": "f1dacfd6",
   "metadata": {},
   "source": [
    "## Nested & Higher-Order Functions\n",
    "\n",
    "Guppy supports nested function definitions with variables captured from outer scopes."
   ]
  },
  {
   "cell_type": "code",
   "execution_count": 13,
   "id": "45a7a1a4",
   "metadata": {},
   "outputs": [],
   "source": [
    "module = GuppyModule(\"nested_function\")\n",
    "\n",
    "@guppy(module)\n",
    "def outer(x: int) -> int:\n",
    "    def nested(y: int) -> int:\n",
    "        return x + y\n",
    "    return nested(42)\n",
    "\n",
    "program = module.compile()"
   ]
  },
  {
   "cell_type": "markdown",
   "id": "aec490a2",
   "metadata": {},
   "source": [
    "However, similar to regular Python, variables from enclosing functions scopes may not be modified. Python's `global` and `nonlocal` statements are not supported by Guppy."
   ]
  },
  {
   "cell_type": "code",
   "execution_count": 14,
   "id": "3e021bd4",
   "metadata": {
    "tags": [
     "raises-exception"
    ]
   },
   "outputs": [
    {
     "name": "stderr",
     "output_type": "stream",
     "text": [
      "Error: Illegal assignment (at <In [14]>:6:8)\n",
      "  | \n",
      "4 | def outer(x: int) -> int:\n",
      "5 |     def nested() -> None:\n",
      "6 |         x += 1  # Mutation of captured variable x is not allowed\n",
      "  |         ^^^^^^ Variable `x` may not be assigned to since `x` is captured\n",
      "  |                from an outer scope\n",
      "  | \n",
      "4 | def outer(x: int) -> int:\n",
      "  |           ------ `x` defined here\n",
      "\n",
      "Guppy compilation failed due to 1 previous error\n"
     ]
    }
   ],
   "source": [
    "bad_module = GuppyModule(name=\"bad_module\")\n",
    "\n",
    "@guppy(bad_module)\n",
    "def outer(x: int) -> int:\n",
    "    def nested() -> None:\n",
    "        x += 1  # Mutation of captured variable x is not allowed\n",
    "    nested()\n",
    "    return x\n",
    "\n",
    "bad_module.compile()  # Raises an error"
   ]
  },
  {
   "cell_type": "markdown",
   "id": "53568663",
   "metadata": {},
   "source": [
    "Functions can be used as higher-order values using Python's `Callable` type."
   ]
  },
  {
   "cell_type": "code",
   "execution_count": 15,
   "id": "892dd693",
   "metadata": {},
   "outputs": [],
   "source": [
    "from typing import Callable\n",
    "\n",
    "module = GuppyModule(\"higher_order\")\n",
    "\n",
    "@guppy(module)\n",
    "def increment_by(inc: int) -> Callable[[int], int]:\n",
    "    def closure(x: int) -> int:\n",
    "        return x + inc\n",
    "    return closure\n",
    "\n",
    "@guppy(module)\n",
    "def main(x: int) -> int:\n",
    "    inc5 = increment_by(5)\n",
    "    return inc5(x)\n",
    "\n",
    "program = module.compile()"
   ]
  }
 ],
 "metadata": {
  "kernelspec": {
   "display_name": "venv",
   "language": "python",
   "name": "python3"
  },
  "language_info": {
   "codemirror_mode": {
    "name": "ipython",
    "version": 3
   },
   "file_extension": ".py",
   "mimetype": "text/x-python",
   "name": "python",
   "nbconvert_exporter": "python",
   "pygments_lexer": "ipython3",
   "version": "3.12.6"
  }
 },
 "nbformat": 4,
 "nbformat_minor": 5
}

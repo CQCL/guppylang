{
 "cells": [
  {
   "cell_type": "markdown",
   "id": "c4e97d94-9f03-4956-bb03-2f1753d8afa5",
   "metadata": {},
   "source": [
    "# Adaptive QPE\n",
    "\n",
    "**Download this notebook - {nb-download}`adaptive-qpe.ipynb`**\n",
    "\n",
    "Implementation of the adaptive random walk phase estimation algorithm from\n",
    "https://arxiv.org/abs/2208.04526.\n",
    "\n",
    "The example Hamiltonian and numbers are taken from https://arxiv.org/abs/2206.12950."
   ]
  },
  {
   "cell_type": "code",
   "execution_count": 1,
   "id": "8462b05b-5e24-46c7-9021-0bdaf9e90029",
   "metadata": {},
   "outputs": [],
   "source": [
    "import math\n",
    "from guppylang import guppy\n",
    "from guppylang.std.angles import angle\n",
    "from guppylang.std.builtins import comptime, result\n",
    "from guppylang.std.quantum import discard, measure, qubit, h, rz, x, crz"
   ]
  },
  {
   "cell_type": "code",
   "execution_count": 2,
   "id": "d77268ee-b737-41cf-86a8-6abfb10b9b89",
   "metadata": {},
   "outputs": [],
   "source": [
    "@guppy\n",
    "def oracle(ctrl: qubit, q: qubit, t: float) -> None:\n",
    "    \"\"\"Applies a controlled e^-iπHt/2 gate for the example Hamiltonian H = 0.5 * Z.\"\"\"\n",
    "    crz(ctrl, q, angle(0.5 * t))\n",
    "\n",
    "\n",
    "@guppy\n",
    "def eigenstate() -> qubit:\n",
    "    \"\"\"Prepares eigenstate of the example Hamiltonian H = 0.5 * Z.\"\"\"\n",
    "    q = qubit()\n",
    "    x(q)\n",
    "    return q"
   ]
  },
  {
   "cell_type": "code",
   "execution_count": 3,
   "id": "f4b1a3fe-5586-44a4-b891-7af85c28013e",
   "metadata": {},
   "outputs": [],
   "source": [
    "sqrt_e = math.sqrt(math.e)\n",
    "sqrt_e_div = math.sqrt((math.e - 1) / math.e)\n",
    "\n",
    "\n",
    "@guppy\n",
    "def main() -> None:\n",
    "    # Pick initial estimate of phase mean and stdv\n",
    "    # and prepare eigenstate\n",
    "    mu, sigma = comptime(sqrt_e_div), 1 / comptime(sqrt_e)\n",
    "    tgt = eigenstate()\n",
    "    for _ in range(24):\n",
    "        t = 1 / sigma\n",
    "\n",
    "        aux = qubit()\n",
    "        h(aux)\n",
    "        rz(aux, angle((sigma - mu) * t))\n",
    "        oracle(aux, tgt, t)\n",
    "        h(aux)\n",
    "\n",
    "        if measure(aux):\n",
    "            mu += sigma / comptime(sqrt_e)\n",
    "        else:\n",
    "            mu -= sigma / comptime(sqrt_e)\n",
    "        sigma *= comptime(sqrt_e_div)\n",
    "\n",
    "    discard(tgt)\n",
    "    result(\"eigenvalue\", 2 * mu)"
   ]
  },
  {
   "cell_type": "code",
   "execution_count": 4,
   "id": "4a51f004-53aa-41d0-884b-cdfd7c6efab5",
   "metadata": {},
   "outputs": [
    {
     "data": {
      "text/plain": [
       "EmulatorResult(results=[QsysShot(entries=[('eigenvalue', 2.3679925580437398)])])"
      ]
     },
     "execution_count": 4,
     "metadata": {},
     "output_type": "execute_result"
    }
   ],
   "source": [
    "emulator = main.emulator(n_qubits=2).with_seed(2)\n",
    "emulator.run()"
   ]
  },
  {
   "cell_type": "code",
   "execution_count": 5,
   "id": "526d9fad-1a5a-4adb-bf11-41729e03c3cf",
   "metadata": {},
   "outputs": [
    {
     "data": {
      "image/png": "[encoded data removed]",
      "text/plain": [
       "<Figure size 640x480 with 1 Axes>"
      ]
     },
     "metadata": {},
     "output_type": "display_data"
    }
   ],
   "source": [
    "import matplotlib.pyplot as plt\n",
    "import matplotlib.ticker as ticker\n",
    "\n",
    "# run more shots\n",
    "shots = emulator.with_shots(500).run()\n",
    "fig, ax = plt.subplots(1, 1)\n",
    "ax.hist([shot.as_dict()[\"eigenvalue\"] for shot in shots.results], bins=100)\n",
    "ax.xaxis.set_major_locator(ticker.MultipleLocator(0.5))\n",
    "plt.show()"
   ]
  }
 ],
 "metadata": {
  "kernelspec": {
   "display_name": "venv",
   "language": "python",
   "name": "python3"
  },
  "language_info": {
   "codemirror_mode": {
    "name": "ipython",
    "version": 3
   },
   "file_extension": ".py",
   "mimetype": "text/x-python",
   "name": "python",
   "nbconvert_exporter": "python",
   "pygments_lexer": "ipython3",
   "version": "3.13.4"
  }
 },
 "nbformat": 4,
 "nbformat_minor": 5
}
